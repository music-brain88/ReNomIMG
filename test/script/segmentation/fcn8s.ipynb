{
 "cells": [
  {
   "cell_type": "code",
   "execution_count": null,
   "metadata": {},
   "outputs": [],
   "source": [
    "import os\n",
    "import copy\n",
    "import subprocess\n",
    "import numpy as np \n",
    "import renom as rm\n",
    "from renom_img.api.segmentation.fcn import FCN8s\n",
    "from PIL import Image\n",
    "import renom_img\n",
    "from renom_img.api.utility.augmentation import Augmentation\n",
    "from renom_img.api.utility.augmentation.process import *\n",
    "from renom_img.api.utility.evaluate.segmentation import segmentation_iou, segmentation_precision, segmentation_recall\n",
    "from datetime import datetime\n",
    "from renom.cuda import set_cuda_active\n",
    "set_cuda_active(True)"
   ]
  },
  {
   "cell_type": "code",
   "execution_count": null,
   "metadata": {},
   "outputs": [],
   "source": [
    "os.mkdir('model_logs')\n",
    "date = str(datetime.date(datetime.now()))"
   ]
  },
  {
   "cell_type": "code",
   "execution_count": null,
   "metadata": {},
   "outputs": [],
   "source": [
    "class_map = ['background', 'aeroplane', 'bicycle', 'bird', 'boat', 'bottle', \n",
    "             'bus', 'car', 'cat', 'chair', 'cow', 'diningtable',\n",
    "             'dog', 'horse', 'motorbike', 'person', 'potted plant', \n",
    "             'sheep', 'sofa', 'train', 'tv/monitor', 'void']"
   ]
  },
  {
   "cell_type": "code",
   "execution_count": null,
   "metadata": {},
   "outputs": [],
   "source": [
    "def create_list(filename, mode):\n",
    "    ann=[]\n",
    "    img_path=[]\n",
    "    with open(filename,'r') as f:\n",
    "        for line in f:\n",
    "            line = line[:-1]\n",
    "            \n",
    "            if mode is 'train':\n",
    "                line = \"/mnt/research/dataset/VOCdevkit/sbdd/img/\"+line+\".jpg\"\n",
    "                img_path.append(line)\n",
    "                line = line.replace('img','cls')   \n",
    "                line = line.replace('jpg','png')\n",
    "                ann.append(line)\n",
    "                \n",
    "            elif mode is 'val':\n",
    "                line = \"/mnt/research/dataset/VOCdevkit/VOC2011/JPEGImages/\"+line+\".jpg\"\n",
    "                img_path.append(line)\n",
    "                line = line.replace('JPEGImages','SegmentationClass')   \n",
    "                line = line.replace('jpg','png')\n",
    "                ann.append(line)\n",
    "            else:\n",
    "                print('Error: Mode must be either train or val')\n",
    "                break\n",
    "\n",
    "    return img_path,ann"
   ]
  },
  {
   "cell_type": "code",
   "execution_count": null,
   "metadata": {},
   "outputs": [],
   "source": [
    "train_image, train_annot = create_list(\"/mnt/research/dataset/VOCdevkit/sbdd/train.txt\",\"train\")\n",
    "valid_image, valid_annot = create_list(\"/mnt/research/dataset/VOCdevkit/VOC2011/ImageSets/Segmentation/seg11valid.txt\",\"val\")"
   ]
  },
  {
   "cell_type": "code",
   "execution_count": null,
   "metadata": {},
   "outputs": [],
   "source": [
    "model = FCN8s(class_map, imsize=(224, 224),load_pretrained_weight=True, train_whole_network=True)"
   ]
  },
  {
   "cell_type": "code",
   "execution_count": null,
   "metadata": {},
   "outputs": [],
   "source": [
    "aug = Augmentation([\n",
    "                Flip(),\n",
    "                WhiteNoise(),\n",
    "                ContrastNorm([0.5, 1.0])\n",
    "            ])"
   ]
  },
  {
   "cell_type": "code",
   "execution_count": null,
   "metadata": {},
   "outputs": [],
   "source": [
    "def resize_annot(path_list,size):\n",
    "    targets = []\n",
    "    for path in path_list:\n",
    "        annot = Image.open(path)\n",
    "        annot.load()\n",
    "        annot = np.array(annot.resize(size))\n",
    "        annot[annot==255] = 21\n",
    "    targets.append(annot)\n",
    "    return np.array(targets)"
   ]
  },
  {
   "cell_type": "code",
   "execution_count": null,
   "metadata": {},
   "outputs": [],
   "source": [
    "def end_function(*args):\n",
    "    if len(args)>0:\n",
    "#         calculating mAP\n",
    "        model = args[1]\n",
    "#         saving model\n",
    "        train_list = args[2]\n",
    "        validation_loss_list = args[3]\n",
    "        epoch = args[0]\n",
    "        if len(validation_loss_list)>1:\n",
    "            tmp = copy.deepcopy(validation_loss_list)\n",
    "            current_loss = tmp[-1]\n",
    "            del(tmp[-1])\n",
    "            tmp.sort()\n",
    "            if(current_loss<tmp[0]):\n",
    "                results = model.predict(valid_image)\n",
    "                results = np.array(results)\n",
    "                targets = resize_annot(valid_annot, model.imsize)\n",
    "                precision, mean_precision = segmentation_precision(results, targets, ignore_class=[0,21])\n",
    "                iou, mean_iou = segmentation_iou(results, targets, ignore_class=[0,21])\n",
    "                recall, mean_recall = segmentation_recall(results, targets, ignore_class=[0,21])\n",
    "                \n",
    "                fp = open('model_logs/fcn8s@'+date+'.txt','a+')\n",
    "                fp.write('Epoch: {:03d} Train Loss: {:3.2f}  Valid Loss: {:3.2f} mean_precision: {:3.2f} mean_iou: {:3.2f} mean_recall: {:3.2f} \\n'.format(epoch,float(train_list[-1]),float(validation_loss_list[-1]),float(mean_precision),float(mean_iou),float(mean_recall)))\n",
    "                fp.close()"
   ]
  },
  {
   "cell_type": "code",
   "execution_count": null,
   "metadata": {},
   "outputs": [],
   "source": [
    "# Hyperparameters\n",
    "total_epoch = 200\n",
    "batch = 4\n",
    "imsize = model.imsize\n",
    "multiscale = None\n",
    "optimizer = model._opt.__class__\n",
    "augmentation = [str(name.__class__).split('.')[-1] for name in aug._process_list]\n",
    "evaluation_matrix = \"mean IoU\"\n",
    "dataset = \"PASCAL_VOC_2011\"\n",
    "standard = 65.4\n",
    "load_pretrained=True\n",
    "train_whole=True\n",
    "renom_v = rm.__version__\n",
    "renom_img_v = renom_img.__version__\n",
    "commit_id = str(subprocess.check_output(['git','rev-parse','HEAD']))"
   ]
  },
  {
   "cell_type": "code",
   "execution_count": null,
   "metadata": {},
   "outputs": [],
   "source": [
    "# write hyperparameters to file\n",
    "fp = open('model_logs/fcn8s@'+date+'.txt','a+')\n",
    "fp.write('Commit Hash: '+commit_id[2:-3]+'\\nReNom version: '+renom_v+'\\nReNomIMG version: '+renom_img_v)\n",
    "fp.write('\\nExpected score: {:3.2f}\\n'.format(float(standard)))\n",
    "fp.write('\\n===================================================Hyperparameters=======================================================\\n')\n",
    "fp.write('\\nTotal epoch: {:03d}\\nBatch size: {:03d}\\nImage size: ({:03d},{:03d})'.format(total_epoch,batch,imsize[0],imsize[1]))\n",
    "fp.write('\\nMultiscale: '+str(multiscale)+'\\nOptimizer: '+str(optimizer).split('.')[-1]+'\\nAugmentation: '+str(augmentation))\n",
    "fp.write('\\nEvaluation matrix: '+str(evaluation_matrix)+'\\nDataset: '+str(dataset))\n",
    "fp.write('\\nLoad Pretrained weight: '+str(load_pretrained)+'\\nTrain whole network: '+str(train_whole))\n",
    "fp.write('\\n==========================================================================================================================\\n\\n')\n",
    "fp.close()"
   ]
  },
  {
   "cell_type": "code",
   "execution_count": null,
   "metadata": {
    "scrolled": true
   },
   "outputs": [],
   "source": [
    "model.fit(train_img_path_list=train_image, train_annotation_list=train_annot,\n",
    "          valid_img_path_list=valid_image, valid_annotation_list=valid_annot, \n",
    "          batch_size=batch, callback_end_epoch=end_function, augmentation=aug, epoch=total_epoch, class_weight=False)\n",
    "\n",
    "\n",
    "fp = open('model_logs/fcn8s@'+date+'.txt','a')\n",
    "fp.write('\\nSuccess')\n",
    "fp.close()"
   ]
  },
  {
   "cell_type": "code",
   "execution_count": null,
   "metadata": {},
   "outputs": [],
   "source": []
  }
 ],
 "metadata": {
  "kernelspec": {
   "display_name": "Python 3",
   "language": "python",
   "name": "python3"
  },
  "language_info": {
   "codemirror_mode": {
    "name": "ipython",
    "version": 3
   },
   "file_extension": ".py",
   "mimetype": "text/x-python",
   "name": "python",
   "nbconvert_exporter": "python",
   "pygments_lexer": "ipython3",
   "version": "3.5.2"
  }
 },
 "nbformat": 4,
 "nbformat_minor": 2
}
