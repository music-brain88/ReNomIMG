{
 "cells": [
  {
   "cell_type": "code",
   "execution_count": null,
   "metadata": {},
   "outputs": [],
   "source": [
    "import numpy as np\n",
    "import os\n",
    "import copy\n",
    "import subprocess\n",
    "from sklearn.metrics import accuracy_score\n",
    "import renom as rm\n",
    "from renom.cuda import set_cuda_active\n",
    "set_cuda_active(True)\n",
    "import renom_img\n",
    "from renom_img.api.classification.resnext import ResNeXt50\n",
    "from renom_img.api.utility.augmentation import Augmentation\n",
    "from renom_img.api.utility.augmentation.process import *\n",
    "from datetime import datetime"
   ]
  },
  {
   "cell_type": "code",
   "execution_count": null,
   "metadata": {},
   "outputs": [],
   "source": [
    "os.mkdir('model_logs')\n",
    "date = str(datetime.date(datetime.now()))\n",
    "root='/mnt/research/dataset/Caltech/101_ObjectCategories'"
   ]
  },
  {
   "cell_type": "code",
   "execution_count": null,
   "metadata": {},
   "outputs": [],
   "source": [
    "def prepare_data(path):\n",
    "    class_map = sorted(os.listdir(root))[1:]\n",
    "\n",
    "    image_path_list = []\n",
    "    label_list = []\n",
    "\n",
    "    for i, c in enumerate(class_map):\n",
    "        root_path = os.path.join(root, c)\n",
    "        img_files = os.listdir(root_path)\n",
    "        image_path_list.extend([os.path.join(root_path, path) for path in img_files])\n",
    "        label_list += [i]*len(img_files)\n",
    "\n",
    "    N = len(image_path_list)\n",
    "    perm = np.random.permutation(N)\n",
    "    train_N = int(N*0.8)\n",
    "\n",
    "    train_image_path_list = [image_path_list[p] for p in perm[:train_N]]\n",
    "    train_label_path_list = [label_list[p] for p in perm[:train_N]]\n",
    "\n",
    "    valid_image_path_list = [image_path_list[p] for p in perm[train_N:]]\n",
    "    valid_label_path_list = [label_list[p] for p in perm[train_N:]]\n",
    "    \n",
    "    return class_map, train_image_path_list, train_label_path_list, valid_image_path_list, valid_label_path_list"
   ]
  },
  {
   "cell_type": "code",
   "execution_count": null,
   "metadata": {},
   "outputs": [],
   "source": [
    "cmap, train_x, train_y, valid_x, valid_y = prepare_data(root)"
   ]
  },
  {
   "cell_type": "code",
   "execution_count": null,
   "metadata": {},
   "outputs": [],
   "source": [
    "model = ResNeXt50(cmap, load_pretrained_weight=True, train_whole_network=True)"
   ]
  },
  {
   "cell_type": "code",
   "execution_count": null,
   "metadata": {},
   "outputs": [],
   "source": [
    "aug = Augmentation([\n",
    "    Shift(10,10),\n",
    "    RandomCrop(padding=4),\n",
    "    Flip(),\n",
    "    ContrastNorm(),\n",
    "])"
   ]
  },
  {
   "cell_type": "code",
   "execution_count": null,
   "metadata": {},
   "outputs": [],
   "source": [
    "def end_function(*args):\n",
    "    if len(args)>0:\n",
    "        model = args[1]\n",
    "        train_list = args[2]\n",
    "        validation_loss_list = args[3]\n",
    "        epoch = args[0]\n",
    "        if len(validation_loss_list)>1:\n",
    "            tmp = copy.deepcopy(validation_loss_list)\n",
    "            current_loss = tmp[-1]\n",
    "            del(tmp[-1])\n",
    "            tmp.sort()\n",
    "            if(current_loss<tmp[0]):\n",
    "                predicted = model.predict(valid_x)\n",
    "                accuracy = accuracy_score(valid_y, predicted)\n",
    "                fp = open('model_logs/resnext50@'+date+'.txt','a+')\n",
    "                fp.write('Epoch: {:03d} Train Loss: {:3.2f}  Valid Loss: {:3.2f} Accuracy: {:3.2f} \\n'.format(epoch,float(train_list[-1]),float(validation_loss_list[-1]),float(accuracy)))\n",
    "                fp.close()"
   ]
  },
  {
   "cell_type": "code",
   "execution_count": null,
   "metadata": {},
   "outputs": [],
   "source": [
    "# Hyperparameters\n",
    "total_epoch = 100\n",
    "batch = 28\n",
    "imsize = model.imsize\n",
    "multiscale = None\n",
    "optimizer = model._opt.__class__\n",
    "augmentation = [str(name.__class__).split('.')[-1] for name in aug._process_list]\n",
    "evaluation_matrix = \"Accuracy\"\n",
    "dataset = \"Caltech_101\"\n",
    "standard = 0.0\n",
    "load_pretrained=True\n",
    "train_whole=True\n",
    "renom_v = rm.__version__\n",
    "renom_img_v = renom_img.__version__\n",
    "commit_id = str(subprocess.check_output(['git','rev-parse','HEAD']))"
   ]
  },
  {
   "cell_type": "code",
   "execution_count": null,
   "metadata": {},
   "outputs": [],
   "source": [
    "# write hyperparameters to file\n",
    "fp = open('model_logs/resnext50@'+date+'.txt','a+')\n",
    "fp.write('Commit Hash: '+commit_id[2:-3]+'\\nReNom version: '+renom_v+'\\nReNomIMG version: '+renom_img_v)\n",
    "fp.write('\\nExpected score: {:3.2f}\\n'.format(float(standard)))\n",
    "fp.write('\\n===================================================Hyperparameters=======================================================\\n')\n",
    "fp.write('\\nTotal epoch: {:03d}\\nBatch size: {:03d}\\nImage size: ({:03d},{:03d})'.format(total_epoch,batch,imsize[0],imsize[1]))\n",
    "fp.write('\\nMultiscale: '+str(multiscale)+'\\nOptimizer: '+str(optimizer).split('.')[-1]+'\\nAugmentation: '+str(augmentation))\n",
    "fp.write('\\nEvaluation matrix: '+str(evaluation_matrix)+'\\nDataset: '+str(dataset))\n",
    "fp.write('\\nLoad Pretrained weight: '+str(load_pretrained)+'\\nTrain whole network: '+str(train_whole))\n",
    "fp.write('\\n==========================================================================================================================\\n\\n')\n",
    "fp.close()"
   ]
  },
  {
   "cell_type": "code",
   "execution_count": null,
   "metadata": {
    "scrolled": true
   },
   "outputs": [],
   "source": [
    "model.fit(train_x,train_y,valid_x,valid_y,batch_size=batch,epoch=total_epoch,augmentation=aug,callback_end_epoch=end_function)\n",
    "\n",
    "fp = open('model_logs/resnext50@'+date+'.txt','a')\n",
    "fp.write('\\nSuccess')\n",
    "fp.close()"
   ]
  },
  {
   "cell_type": "code",
   "execution_count": null,
   "metadata": {},
   "outputs": [],
   "source": []
  }
 ],
 "metadata": {
  "kernelspec": {
   "display_name": "Python 3",
   "language": "python",
   "name": "python3"
  },
  "language_info": {
   "codemirror_mode": {
    "name": "ipython",
    "version": 3
   },
   "file_extension": ".py",
   "mimetype": "text/x-python",
   "name": "python",
   "nbconvert_exporter": "python",
   "pygments_lexer": "ipython3",
   "version": "3.5.2"
  }
 },
 "nbformat": 4,
 "nbformat_minor": 2
}
