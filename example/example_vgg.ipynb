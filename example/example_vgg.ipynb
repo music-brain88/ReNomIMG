{
 "cells": [
  {
   "cell_type": "code",
   "execution_count": 1,
   "metadata": {},
   "outputs": [],
   "source": [
    "import os\n",
    "import time\n",
    "import numpy as np\n",
    "import renom as rm\n",
    "from tqdm import tqdm\n",
    "import matplotlib.pyplot as plt\n",
    "\n",
    "from renom_img.api.classification.vgg import VGG16\n",
    "from renom_img.api.utility.distributor.distributor import ImageDistributor\n",
    "from renom_img.api.utility.augmentation import Augmentation\n",
    "from renom_img.api.utility.augmentation.process import *\n",
    "from renom_img.api.utility.load import parse_xml_detection\n",
    "from renom_img.api.utility.misc.display import draw_box\n",
    "\n",
    "from renom.cuda import set_cuda_active\n",
    "set_cuda_active(True)"
   ]
  },
  {
   "cell_type": "code",
   "execution_count": 2,
   "metadata": {},
   "outputs": [],
   "source": [
    "if not os.path.exists(\"101_ObjectCategories\"):\n",
    "    !wget http://www.vision.caltech.edu/Image_Datasets/Caltech101/101_ObjectCategories.tar.gz\n",
    "    !tar zxfv 101_ObjectCategories.tar.gz"
   ]
  },
  {
   "cell_type": "code",
   "execution_count": 3,
   "metadata": {},
   "outputs": [
    {
     "name": "stdout",
     "output_type": "stream",
     "text": [
      "Dataset size\n  Train:6941\n  Valid:1736\n\nClass list\n  00 Faces\n  01 Faces_easy\n  02 Leopards\n  03 Motorbikes\n  04 accordion\n  05 airplanes\n  06 anchor\n  07 ant\n  08 barrel\n  09 bass\n  10 beaver\n  11 binocular\n  12 bonsai\n  13 brain\n  14 brontosaurus\n  15 buddha\n  16 butterfly\n  17 camera\n  18 cannon\n  19 car_side\n  20 ceiling_fan\n  21 cellphone\n  22 chair\n  23 chandelier\n  24 cougar_body\n  25 cougar_face\n  26 crab\n  27 crayfish\n  28 crocodile\n  29 crocodile_head\n  30 cup\n  31 dalmatian\n  32 dollar_bill\n  33 dolphin\n  34 dragonfly\n  35 electric_guitar\n  36 elephant\n  37 emu\n  38 euphonium\n  39 ewer\n  40 ferry\n  41 flamingo\n  42 flamingo_head\n  43 garfield\n  44 gerenuk\n  45 gramophone\n  46 grand_piano\n  47 hawksbill\n  48 headphone\n  49 hedgehog\n  50 helicopter\n  51 ibis\n  52 inline_skate\n  53 joshua_tree\n  54 kangaroo\n  55 ketch\n  56 lamp\n  57 laptop\n  58 llama\n  59 lobster\n  60 lotus\n  61 mandolin\n  62 mayfly\n  63 menorah\n  64 metronome\n  65 minaret\n  66 nautilus\n  67 octopus\n  68 okapi\n  69 pagoda\n  70 panda\n  71 pigeon\n  72 pizza\n  73 platypus\n  74 pyramid\n  75 revolver\n  76 rhino\n  77 rooster\n  78 saxophone\n  79 schooner\n  80 scissors\n  81 scorpion\n  82 sea_horse\n  83 snoopy\n  84 soccer_ball\n  85 stapler\n  86 starfish\n  87 stegosaurus\n  88 stop_sign\n  89 strawberry\n  90 sunflower\n  91 tick\n  92 trilobite\n  93 umbrella\n  94 watch\n  95 water_lilly\n  96 wheelchair\n  97 wild_cat\n  98 windsor_chair\n  99 wrench\n  100 yin_yang\n"
     ]
    }
   ],
   "source": [
    "image_caltech101 = \"101_ObjectCategories\"\n",
    "class_map = sorted(os.listdir(image_caltech101))[1:]\n",
    "\n",
    "image_path_list = []\n",
    "label_list = []\n",
    "\n",
    "for i, c in enumerate(class_map):\n",
    "    root_path = os.path.join(image_caltech101, c)\n",
    "    img_files = os.listdir(root_path)\n",
    "    image_path_list.extend([os.path.join(root_path, path) for path in img_files])\n",
    "    label_list += [i]*len(img_files)\n",
    "\n",
    "N = len(image_path_list)\n",
    "perm = np.random.permutation(N)\n",
    "train_N = int(N*0.8)\n",
    "\n",
    "train_image_path_list = [image_path_list[p] for p in perm[:train_N]]\n",
    "train_label_path_list = [label_list[p] for p in perm[:train_N]]\n",
    "\n",
    "valid_image_path_list = [image_path_list[p] for p in perm[train_N:]]\n",
    "valid_label_path_list = [label_list[p] for p in perm[train_N:]]\n",
    "\n",
    "print(\"Dataset size\")\n",
    "print(\"  Train:{}\".format(len(train_image_path_list)))\n",
    "print(\"  Valid:{}\\n\".format(len(valid_image_path_list)))\n",
    "\n",
    "print(\"Class list\")\n",
    "for i, name in enumerate(class_map):\n",
    "    print(\"  {:02d} {}\".format(i, name))"
   ]
  },
  {
   "cell_type": "code",
   "execution_count": 4,
   "metadata": {},
   "outputs": [
    {
     "name": "stderr",
     "output_type": "stream",
     "text": [
      "/home/grid/renom_env/lib/python3.5/site-packages/h5py/__init__.py:36: FutureWarning: Conversion of the second argument of issubdtype from `float` to `np.floating` is deprecated. In future, it will be treated as `np.float64 == np.dtype(float).type`.\n  from ._conv import register_converters as _register_converters\n"
     ]
    }
   ],
   "source": [
    "model = VGG16(class_map, load_pretrained_weight=True, train_whole_network=False)"
   ]
  },
  {
   "cell_type": "code",
   "execution_count": 5,
   "metadata": {},
   "outputs": [
    {
     "name": "stderr",
     "output_type": "stream",
     "text": [
      "\r  0%|          | 0/109 [00:00<?, ?it/s]"
     ]
    },
    {
     "name": "stderr",
     "output_type": "stream",
     "text": [
      "\rEpoch:000 Train Loss:4.780:   0%|          | 0/109 [00:06<?, ?it/s]"
     ]
    },
    {
     "name": "stderr",
     "output_type": "stream",
     "text": [
      "\rEpoch:000 Train Loss:4.780:   1%|          | 1/109 [00:06<12:20,  6.85s/it]"
     ]
    },
    {
     "name": "stderr",
     "output_type": "stream",
     "text": [
      "\rEpoch:000 Train Loss:4.648:   1%|          | 1/109 [00:07<12:20,  6.85s/it]"
     ]
    },
    {
     "name": "stderr",
     "output_type": "stream",
     "text": [
      "\rEpoch:000 Train Loss:4.648:   2%|▏         | 2/109 [00:07<08:53,  4.99s/it]"
     ]
    },
    {
     "name": "stderr",
     "output_type": "stream",
     "text": [
      "\rEpoch:000 Train Loss:4.568:   2%|▏         | 2/109 [00:08<08:53,  4.99s/it]"
     ]
    },
    {
     "name": "stderr",
     "output_type": "stream",
     "text": [
      "\rEpoch:000 Train Loss:4.568:   3%|▎         | 3/109 [00:08<06:29,  3.68s/it]"
     ]
    },
    {
     "name": "stderr",
     "output_type": "stream",
     "text": [
      "\rEpoch:000 Train Loss:4.499:   3%|▎         | 3/109 [00:08<06:29,  3.68s/it]"
     ]
    },
    {
     "name": "stderr",
     "output_type": "stream",
     "text": [
      "\rEpoch:000 Train Loss:4.499:   4%|▎         | 4/109 [00:08<04:49,  2.76s/it]"
     ]
    },
    {
     "name": "stderr",
     "output_type": "stream",
     "text": [
      "\rEpoch:000 Train Loss:4.808:   4%|▎         | 4/109 [00:09<04:49,  2.76s/it]"
     ]
    },
    {
     "name": "stderr",
     "output_type": "stream",
     "text": [
      "\rEpoch:000 Train Loss:4.808:   5%|▍         | 5/109 [00:09<03:40,  2.12s/it]"
     ]
    },
    {
     "name": "stderr",
     "output_type": "stream",
     "text": [
      "\rEpoch:000 Train Loss:4.560:   5%|▍         | 5/109 [00:10<03:40,  2.12s/it]"
     ]
    },
    {
     "name": "stderr",
     "output_type": "stream",
     "text": [
      "\rEpoch:000 Train Loss:4.560:   6%|▌         | 6/109 [00:10<02:53,  1.68s/it]"
     ]
    },
    {
     "name": "stderr",
     "output_type": "stream",
     "text": [
      "\rEpoch:000 Train Loss:4.990:   6%|▌         | 6/109 [00:10<02:53,  1.68s/it]"
     ]
    },
    {
     "name": "stderr",
     "output_type": "stream",
     "text": [
      "\rEpoch:000 Train Loss:4.990:   6%|▋         | 7/109 [00:10<02:19,  1.36s/it]"
     ]
    },
    {
     "name": "stderr",
     "output_type": "stream",
     "text": [
      "\rEpoch:000 Train Loss:4.801:   6%|▋         | 7/109 [00:11<02:19,  1.36s/it]"
     ]
    },
    {
     "name": "stderr",
     "output_type": "stream",
     "text": [
      "\rEpoch:000 Train Loss:4.801:   7%|▋         | 8/109 [00:11<01:55,  1.14s/it]"
     ]
    },
    {
     "name": "stderr",
     "output_type": "stream",
     "text": [
      "\rEpoch:000 Train Loss:4.598:   7%|▋         | 8/109 [00:11<01:55,  1.14s/it]"
     ]
    },
    {
     "name": "stderr",
     "output_type": "stream",
     "text": [
      "\rEpoch:000 Train Loss:4.598:   8%|▊         | 9/109 [00:11<01:39,  1.01it/s]"
     ]
    },
    {
     "name": "stderr",
     "output_type": "stream",
     "text": [
      "\rEpoch:000 Train Loss:5.224:   8%|▊         | 9/109 [00:12<01:39,  1.01it/s]"
     ]
    },
    {
     "name": "stderr",
     "output_type": "stream",
     "text": [
      "\rEpoch:000 Train Loss:5.224:   9%|▉         | 10/109 [00:12<01:28,  1.12it/s]"
     ]
    },
    {
     "name": "stderr",
     "output_type": "stream",
     "text": [
      "\rEpoch:000 Train Loss:5.251:   9%|▉         | 10/109 [00:13<01:28,  1.12it/s]"
     ]
    },
    {
     "name": "stderr",
     "output_type": "stream",
     "text": [
      "\rEpoch:000 Train Loss:5.251:  10%|█         | 11/109 [00:13<01:19,  1.23it/s]"
     ]
    },
    {
     "name": "stderr",
     "output_type": "stream",
     "text": [
      "\rEpoch:000 Train Loss:5.305:  10%|█         | 11/109 [00:13<01:19,  1.23it/s]"
     ]
    },
    {
     "name": "stderr",
     "output_type": "stream",
     "text": [
      "\rEpoch:000 Train Loss:5.305:  11%|█         | 12/109 [00:13<01:13,  1.32it/s]"
     ]
    },
    {
     "name": "stderr",
     "output_type": "stream",
     "text": [
      "\rEpoch:000 Train Loss:5.372:  11%|█         | 12/109 [00:14<01:13,  1.32it/s]"
     ]
    },
    {
     "name": "stderr",
     "output_type": "stream",
     "text": [
      "\rEpoch:000 Train Loss:5.372:  12%|█▏        | 13/109 [00:14<01:12,  1.33it/s]"
     ]
    },
    {
     "name": "stderr",
     "output_type": "stream",
     "text": [
      "\rEpoch:000 Train Loss:5.026:  12%|█▏        | 13/109 [00:15<01:12,  1.33it/s]"
     ]
    },
    {
     "name": "stderr",
     "output_type": "stream",
     "text": [
      "\rEpoch:000 Train Loss:5.026:  13%|█▎        | 14/109 [00:15<01:08,  1.39it/s]"
     ]
    },
    {
     "name": "stderr",
     "output_type": "stream",
     "text": [
      "\rEpoch:000 Train Loss:5.087:  13%|█▎        | 14/109 [00:15<01:08,  1.39it/s]"
     ]
    },
    {
     "name": "stderr",
     "output_type": "stream",
     "text": [
      "\rEpoch:000 Train Loss:5.087:  14%|█▍        | 15/109 [00:15<01:05,  1.44it/s]"
     ]
    },
    {
     "name": "stderr",
     "output_type": "stream",
     "text": [
      "\rEpoch:000 Train Loss:5.428:  14%|█▍        | 15/109 [00:16<01:05,  1.44it/s]"
     ]
    }
   ],
   "source": [
    "model.fit(train_image_path_list, train_label_path_list, epoch=10)"
   ]
  },
  {
   "cell_type": "code",
   "execution_count": null,
   "metadata": {},
   "outputs": [],
   "source": []
  }
 ],
 "metadata": {
  "kernelspec": {
   "display_name": "Python 3",
   "language": "python",
   "name": "python3"
  },
  "language_info": {
   "codemirror_mode": {
    "name": "ipython",
    "version": 3
   },
   "file_extension": ".py",
   "mimetype": "text/x-python",
   "name": "python",
   "nbconvert_exporter": "python",
   "pygments_lexer": "ipython3",
   "version": "3.5.2"
  }
 },
 "nbformat": 4,
 "nbformat_minor": 2
}
